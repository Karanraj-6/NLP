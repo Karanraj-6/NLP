{
 "cells": [
  {
   "cell_type": "code",
   "execution_count": null,
   "metadata": {},
   "outputs": [],
   "source": [
    "from sklearn.datasets import fetch_20newsgroups\n",
    "\n",
    "newsgroups = fetch_20newsgroups()"
   ]
  },
  {
   "cell_type": "code",
   "execution_count": null,
   "metadata": {},
   "outputs": [],
   "source": [
    "import pandas as pd\n",
    "df = pd.DataFrame({\n",
    "    'text': newsgroups.data,\n",
    "    'target': newsgroups.target\n",
    "})"
   ]
  },
  {
   "cell_type": "code",
   "execution_count": null,
   "metadata": {},
   "outputs": [],
   "source": [
    "df"
   ]
  },
  {
   "cell_type": "code",
   "execution_count": null,
   "metadata": {},
   "outputs": [],
   "source": [
    "import re\n",
    "import string"
   ]
  },
  {
   "cell_type": "code",
   "execution_count": null,
   "metadata": {},
   "outputs": [],
   "source": [
    "def html_remove(text):\n",
    "    remove=re.compile('<.*?>')\n",
    "    return re.sub(remove,'',text)\n",
    "df['text']=df['text'].apply(html_remove)\n",
    "df"
   ]
  },
  {
   "cell_type": "code",
   "execution_count": null,
   "metadata": {},
   "outputs": [],
   "source": [
    "def links_remove(text):\n",
    "    remove=re.compile(r'http\\S+|www.\\S+|https\\S+com\\S+')\n",
    "    return re.sub(remove,' ',text)\n",
    "df['text']=df['text'].apply(links_remove)\n",
    "df"
   ]
  },
  {
   "cell_type": "code",
   "execution_count": null,
   "metadata": {},
   "outputs": [],
   "source": [
    "string.punctuation"
   ]
  },
  {
   "cell_type": "code",
   "execution_count": null,
   "metadata": {},
   "outputs": [],
   "source": [
    "def punctuation_remove(text):\n",
    "    remove=re.compile(r'[!\"#$%&\\'()*+,-./:;<=>?@\\\\^_`{|}~]')\n",
    "    return re.sub(remove,' ',text)\n",
    "\n",
    "df['text']=df['text'].apply(punctuation_remove)\n",
    "df"
   ]
  },
  {
   "cell_type": "code",
   "execution_count": null,
   "metadata": {},
   "outputs": [],
   "source": [
    "def lower_convert(text):\n",
    "    return text.lower()\n",
    "\n",
    "df['text']=df['text'].apply(lower_convert)\n",
    "df"
   ]
  },
  {
   "cell_type": "code",
   "execution_count": null,
   "metadata": {},
   "outputs": [],
   "source": [
    "def links_remove(text):\n",
    "    remove=re.compile(r'http\\S+|www.\\S+|https\\S+com\\S+')\n",
    "    return re.sub(remove,' ',text)\n",
    "df['text']=df['text'].apply(links_remove)\n",
    "df"
   ]
  },
  {
   "cell_type": "code",
   "execution_count": null,
   "metadata": {},
   "outputs": [],
   "source": [
    "def whitespaces(text):\n",
    "    remove=re.compile(r'[\\n\\s\\t]')\n",
    "    return re.sub(remove,' ',text)\n",
    "df['text']=df['text'].apply(whitespaces)\n",
    "df"
   ]
  },
  {
   "cell_type": "code",
   "execution_count": null,
   "metadata": {},
   "outputs": [],
   "source": [
    "from nltk.corpus import stopwords\n",
    "nltk.download('stopwords')\n",
    "from textblob import TextBlob"
   ]
  },
  {
   "cell_type": "code",
   "execution_count": null,
   "metadata": {},
   "outputs": [],
   "source": [
    "stopwords_set=set(stopwords.words('english'))\n",
    "\n",
    "def stopword(text):\n",
    "    return ' '.join([word for word in text.split() if word.lower() not in stopwords_set])\n",
    "\n",
    "df['text']=df['text'].apply(stopword)\n",
    "df"
   ]
  },
  {
   "cell_type": "code",
   "execution_count": null,
   "metadata": {},
   "outputs": [],
   "source": [
    "from nltk.stem import PorterStemmer\n",
    "\n",
    "stemmer=PorterStemmer()\n",
    "\n",
    "def stem(text):\n",
    "    return stemmer.stem(text)\n",
    "\n",
    "df['text']=df['text'].apply(stem)\n",
    "df"
   ]
  },
  {
   "cell_type": "code",
   "execution_count": null,
   "metadata": {},
   "outputs": [],
   "source": [
    "import nltk\n",
    "nltk.download('wordnet')\n"
   ]
  },
  {
   "cell_type": "code",
   "execution_count": null,
   "metadata": {},
   "outputs": [],
   "source": [
    "from nltk.stem import WordNetLemmatizer\n",
    "\n",
    "\n",
    "lem=WordNetLemmatizer()\n",
    "\n",
    "def wordlem(text):\n",
    "    return lem.lemmatize(text)\n",
    "\n",
    "df['text']=df['text'].apply(wordlem)\n",
    "df\n"
   ]
  },
  {
   "cell_type": "code",
   "execution_count": null,
   "metadata": {},
   "outputs": [],
   "source": [
    "\n",
    "\n",
    "def remove_num(text):\n",
    "    remove=re.compile(r'\\d+')\n",
    "    return re.sub(remove,' ',text)\n",
    "df['text']=df['text'].apply(remove_num)\n",
    "df\n"
   ]
  },
  {
   "cell_type": "code",
   "execution_count": null,
   "metadata": {},
   "outputs": [],
   "source": [
    "from nltk.stem import PorterStemmer\n",
    "\n",
    "stemmer=PorterStemmer()\n",
    "\n",
    "def stem(text):\n",
    "    return stemmer.stem(text)\n",
    "\n",
    "df['text']=df['text'].apply(stem)\n",
    "df\n"
   ]
  },
  {
   "cell_type": "code",
   "execution_count": null,
   "metadata": {},
   "outputs": [],
   "source": [
    "import nltk\n",
    "nltk.download('punkt')  # For tokenization\n",
    "nltk.download('wordnet')  # For WordNet corpus\n",
    "\n",
    "\n"
   ]
  },
  {
   "cell_type": "code",
   "execution_count": null,
   "metadata": {},
   "outputs": [],
   "source": [
    "\n",
    "def token(text):\n",
    "    return nltk.word_tokenize(text)\n",
    "\n",
    "df['text']=df['text'].apply(token)\n",
    "df"
   ]
  }
 ],
 "metadata": {
  "language_info": {
   "name": "python"
  }
 },
 "nbformat": 4,
 "nbformat_minor": 2
}
